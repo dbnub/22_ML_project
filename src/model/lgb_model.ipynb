{
 "cells": [
  {
   "cell_type": "code",
   "execution_count": 1,
   "id": "c301d610",
   "metadata": {},
   "outputs": [],
   "source": [
    "from lightgbm import LGBMClassifier\n",
    "from sklearn.model_selection import GridSearchCV\n",
    "\n",
    "def lgb_model_init(X_train,y_train):\n",
    "    lgb_clf=LGBMClassifier()\n",
    "    lgb_clf.fit(X_train,y_train)\n",
    "    \n",
    "    return lgb_clf\n",
    "\n",
    "def lgb_model_tuned(X_train,y_train):\n",
    "    grid_search = {'num_leaves': [11,21,31],\n",
    "               'min_child_samples': [15, 20, 25],\n",
    "               'learning_rate': [0.1,0.07,0.05],\n",
    "               'n_estimators': [50,100]}\n",
    "    clf = LGBMClassifier()\n",
    "    grid = GridSearchCV(estimator = clf, param_grid = grid_search, \n",
    "                               cv = 5, verbose= 5, n_jobs = -1)\n",
    "    grid.fit(X_train,y_train)\n",
    "    \n",
    "    lgb_model=grid.best_estimator_\n",
    "    return lgb_model"
   ]
  }
 ],
 "metadata": {
  "kernelspec": {
   "display_name": "Python 3 (ipykernel)",
   "language": "python",
   "name": "python3"
  },
  "language_info": {
   "codemirror_mode": {
    "name": "ipython",
    "version": 3
   },
   "file_extension": ".py",
   "mimetype": "text/x-python",
   "name": "python",
   "nbconvert_exporter": "python",
   "pygments_lexer": "ipython3",
   "version": "3.9.7"
  }
 },
 "nbformat": 4,
 "nbformat_minor": 5
}
