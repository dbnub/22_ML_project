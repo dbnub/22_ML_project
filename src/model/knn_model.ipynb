{
 "cells": [
  {
   "cell_type": "code",
   "execution_count": 1,
   "id": "295a1780",
   "metadata": {},
   "outputs": [],
   "source": [
    "from sklearn.neighbors import KNeighborsClassifier\n",
    "from sklearn.model_selection import GridSearchCV\n",
    "\n",
    "def knn_model_init(X_train,y_train):\n",
    "    knn_clf = KNeighborsClassifier()\n",
    "    knn_clf.fit(X_train,y_train)  \n",
    "    return knn_clf\n",
    "\n",
    "def knn_model_tuned(X_train,y_train):\n",
    "    k_range = range(1,11)\n",
    "    param_grid = dict(n_neighbors=k_range)\n",
    "    clf = KNeighborsClassifier()\n",
    "    grid = GridSearchCV(clf, param_grid, cv=4, scoring = 'accuracy')   \n",
    "    grid.fit(X_train,y_train)\n",
    "    knn_model = grid.best_estimator_\n",
    "    return knn_model"
   ]
  }
 ],
 "metadata": {
  "kernelspec": {
   "display_name": "Python 3 (ipykernel)",
   "language": "python",
   "name": "python3"
  },
  "language_info": {
   "codemirror_mode": {
    "name": "ipython",
    "version": 3
   },
   "file_extension": ".py",
   "mimetype": "text/x-python",
   "name": "python",
   "nbconvert_exporter": "python",
   "pygments_lexer": "ipython3",
   "version": "3.9.7"
  }
 },
 "nbformat": 4,
 "nbformat_minor": 5
}
