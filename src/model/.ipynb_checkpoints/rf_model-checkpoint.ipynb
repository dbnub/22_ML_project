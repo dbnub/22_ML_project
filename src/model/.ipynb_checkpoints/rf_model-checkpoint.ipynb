{
 "cells": [
  {
   "cell_type": "code",
   "execution_count": 1,
   "id": "da977439-a29d-4e63-a1b1-8af3721197bd",
   "metadata": {},
   "outputs": [],
   "source": [
    "from sklearn.ensemble import RandomForestClassifier\n",
    "from sklearn.model_selection import GridSearchCV\n",
    "\n",
    "\n",
    "def rf_model_init(X_train,y_train):\n",
    "    rf_clf=RandomForestClassifier(random_state=2022)\n",
    "    rf_clf.fit(X_train,y_train)\n",
    "    \n",
    "    return rf_clf\n",
    "\n",
    "def rf_model_tuned(X_train,y_train):\n",
    "    grid_search = {'n_estimators':[90,100,110],\n",
    "              'max_depth' :[40,41,42],\n",
    "              'min_samples_split' :[2,3,4]\n",
    "            }\n",
    "    clf=RandomForestClassifier(random_state=2022)\n",
    "    grid=GridSearchCV(estimator = clf, param_grid=grid_search, cv=4,n_jobs=-1, verbose=5)\n",
    "    \n",
    "    grid.fit(X_train,y_train)\n",
    "    \n",
    "    rf_model=grid.best_estimator_\n",
    "    return rf_model\n",
    "\n",
    "\n",
    "\n"
   ]
  }
 ],
 "metadata": {
  "kernelspec": {
   "display_name": "Python 3 (ipykernel)",
   "language": "python",
   "name": "python3"
  },
  "language_info": {
   "codemirror_mode": {
    "name": "ipython",
    "version": 3
   },
   "file_extension": ".py",
   "mimetype": "text/x-python",
   "name": "python",
   "nbconvert_exporter": "python",
   "pygments_lexer": "ipython3",
   "version": "3.8.13"
  }
 },
 "nbformat": 4,
 "nbformat_minor": 5
}
