{
 "cells": [
  {
   "cell_type": "code",
   "execution_count": 2,
   "id": "167f0132",
   "metadata": {},
   "outputs": [],
   "source": [
    "from catboost import CatBoostClassifier\n",
    "from sklearn.model_selection import GridSearchCV\n",
    "\n",
    "def cat_model_init(X_train,y_train):\n",
    "    cat_clf = CatBoostClassifier(silent=True, random_seed=2022)\n",
    "    cat_clf.fit(X_train,y_train)\n",
    "    \n",
    "    return cat_clf\n",
    "\n",
    "def cat_model_tuned(X_train,y_train):\n",
    "    grid_search = {\n",
    "               'max_depth': [5,6,7],\n",
    "               'learning_rate': [0.1,0.07,0.05],\n",
    "               'iterations': [100,500,1000]}\n",
    "    clf = CatBoostClassifier(silent=True, random_seed=2022)\n",
    "    grid = GridSearchCV(estimator = clf, param_grid = grid_search, \n",
    "                               cv = 5, verbose= 5, n_jobs = -1)\n",
    "    grid.fit(X_train,y_train)\n",
    "    \n",
    "    cat_model=grid.best_estimator_\n",
    "    return cat_model"
   ]
  }
 ],
 "metadata": {
  "kernelspec": {
   "display_name": "Python 3 (ipykernel)",
   "language": "python",
   "name": "python3"
  },
  "language_info": {
   "codemirror_mode": {
    "name": "ipython",
    "version": 3
   },
   "file_extension": ".py",
   "mimetype": "text/x-python",
   "name": "python",
   "nbconvert_exporter": "python",
   "pygments_lexer": "ipython3",
   "version": "3.9.7"
  }
 },
 "nbformat": 4,
 "nbformat_minor": 5
}
